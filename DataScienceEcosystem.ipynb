{
 "cells": [
  {
   "attachments": {},
   "cell_type": "markdown",
   "id": "d507c7db-bcc2-430c-9687-58976ade64c7",
   "metadata": {},
   "source": [
    "# Data Science Tools and Ecosystem"
   ]
  },
  {
   "cell_type": "code",
   "execution_count": null,
   "id": "362f15bc-5bc1-4599-a6fa-33876fa182a6",
   "metadata": {},
   "outputs": [],
   "source": []
  },
  {
   "cell_type": "code",
   "execution_count": null,
   "id": "d9c7ff31-6bd6-43a5-85e4-3c43f0597976",
   "metadata": {},
   "outputs": [],
   "source": []
  },
  {
   "cell_type": "code",
   "execution_count": 6,
   "id": "f8d12084-d52d-4287-ab36-0e240e254020",
   "metadata": {},
   "outputs": [],
   "source": [
    "#In this notebook, Data Science Tools and Ecosystem are summarized"
   ]
  },
  {
   "cell_type": "code",
   "execution_count": null,
   "id": "e81aeb16-cfbf-4018-bbe5-0d3f471630d8",
   "metadata": {},
   "outputs": [],
   "source": []
  },
  {
   "cell_type": "code",
   "execution_count": null,
   "id": "14ee19ba-cbd8-4eb7-89f2-88e0b7863d24",
   "metadata": {},
   "outputs": [],
   "source": [
    "**Objectives:**\n",
    "\n",
    "- List popular languages for Data Science.\n",
    "- Identify commonly used Data Science libraries.\n",
    "- Summarize tools and environments used in Data Science.\n",
    "- Demonstrate examples of simple arithmetic operations.\n",
    "- Convert time units using Python code.\n"
   ]
  },
  {
   "cell_type": "code",
   "execution_count": 11,
   "id": "a57d334e-21da-4847-a521-5ea2eecc054a",
   "metadata": {},
   "outputs": [
    {
     "data": {
      "text/plain": [
       "'Tchaa Katansaou'"
      ]
     },
     "execution_count": 11,
     "metadata": {},
     "output_type": "execute_result"
    }
   ],
   "source": [
    "## Author\n",
    "\n",
    "\"Tchaa Katansaou\"\n"
   ]
  },
  {
   "cell_type": "code",
   "execution_count": null,
   "id": "32fb1304-df10-4065-b20b-739d0b009246",
   "metadata": {},
   "outputs": [],
   "source": []
  },
  {
   "cell_type": "code",
   "execution_count": null,
   "id": "5e636cc4-d6b9-45ef-a47e-624eecc1f6e2",
   "metadata": {},
   "outputs": [],
   "source": [
    "## Some of the popular languages that Data Scientists use are:\n",
    "1. Python\n",
    "2. R\n",
    "3. SQL\n",
    "4. Julia\n",
    "5. Scala\n",
    "6. Java"
   ]
  },
  {
   "cell_type": "code",
   "execution_count": null,
   "id": "7df5977f-1c83-4393-ac63-f182b2a34265",
   "metadata": {},
   "outputs": [],
   "source": []
  },
  {
   "cell_type": "code",
   "execution_count": null,
   "id": "edbd6d25-b16c-475c-84f3-b43c49e1c7b8",
   "metadata": {},
   "outputs": [],
   "source": [
    "##Some of the commonly used libraries used by Data Scientists include:\n",
    "1. Numpy\n",
    "2. Pandas\n",
    "3. Matplotlib\n",
    "4. Scikit-learn\n",
    "5. TebsirFlow\n",
    "6. Seaborn\n",
    "7. gglot2\n",
    "8. dplyr\n",
    "9. caret"
   ]
  },
  {
   "cell_type": "markdown",
   "id": "ae45db4a-6577-4587-948f-d96c31227432",
   "metadata": {},
   "source": []
  },
  {
   "cell_type": "code",
   "execution_count": null,
   "id": "b70394de-09c8-4f98-bdf4-d825482400c7",
   "metadata": {},
   "outputs": [],
   "source": [
    "| Data Science Tools       |\n",
    "|--------------------------|\n",
    "| Jupyter Notebook         |\n",
    "| RStudio                  |\n",
    "| Apache Zeppelin          |\n"
   ]
  },
  {
   "cell_type": "markdown",
   "id": "ed41912b-5bb4-4c9c-be0b-cfb7e58fb375",
   "metadata": {},
   "source": []
  },
  {
   "cell_type": "code",
   "execution_count": null,
   "id": "31111f99-e65b-421d-b928-463387b9a13e",
   "metadata": {},
   "outputs": [],
   "source": [
    "### Below are a few examples of evaluating arithmetic expressions in Python\n",
    "\n",
    "1. **Addition**: `3 + 5`  \n",
    "   - Résultat : 8\n",
    "\n",
    "2. **Soustraction**: `10 - 4`  \n",
    "   - Résultat : 6\n",
    "\n",
    "3. **Multiplication**: `7 * 6`  \n",
    "   - Résultat : 42\n",
    "\n",
    "4. **Division**: `20 / 4`  \n",
    "   - Résultat : 5.0\n",
    "\n",
    "5. **Modulus (reste de division)**: `10 % 3`  \n",
    "   - Résultat : 1\n",
    "\n",
    "6. **Puissance**: `2 ** 3`  \n",
    "   - Résultat : 8\n"
   ]
  },
  {
   "cell_type": "code",
   "execution_count": null,
   "id": "bc782ebb-8bb6-4260-8442-61e0029e7443",
   "metadata": {},
   "outputs": [],
   "source": []
  },
  {
   "cell_type": "code",
   "execution_count": 8,
   "id": "91b680ae-cf89-485a-a6f8-070904857a52",
   "metadata": {},
   "outputs": [
    {
     "data": {
      "text/plain": [
       "17"
      ]
     },
     "execution_count": 8,
     "metadata": {},
     "output_type": "execute_result"
    }
   ],
   "source": [
    "(3*4)+5 #This a simple arithmetic expression to mutiply then add integers"
   ]
  },
  {
   "cell_type": "code",
   "execution_count": null,
   "id": "9c4c94ea-a20a-4655-93c0-d425db3b1901",
   "metadata": {},
   "outputs": [],
   "source": []
  },
  {
   "cell_type": "code",
   "execution_count": 9,
   "id": "27d0cc0e-492e-40a6-b4eb-66bffa842bc5",
   "metadata": {},
   "outputs": [
    {
     "data": {
      "text/plain": [
       "3.3333333333333335"
      ]
     },
     "execution_count": 9,
     "metadata": {},
     "output_type": "execute_result"
    }
   ],
   "source": [
    "# This will convert 200 minutes to hours by dividing by 60\n",
    "minutes = 200\n",
    "hours = minutes / 60\n",
    "hours\n",
    "\n"
   ]
  },
  {
   "cell_type": "code",
   "execution_count": null,
   "id": "f461040b-539c-480e-a753-7da09130f922",
   "metadata": {},
   "outputs": [],
   "source": []
  }
 ],
 "metadata": {
  "kernelspec": {
   "display_name": "Python 3 (ipykernel)",
   "language": "python",
   "name": "python3"
  },
  "language_info": {
   "codemirror_mode": {
    "name": "ipython",
    "version": 3
   },
   "file_extension": ".py",
   "mimetype": "text/x-python",
   "name": "python",
   "nbconvert_exporter": "python",
   "pygments_lexer": "ipython3",
   "version": "3.12.4"
  }
 },
 "nbformat": 4,
 "nbformat_minor": 5
}
