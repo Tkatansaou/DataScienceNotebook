{
 "cells": [
  {
   "attachments": {},
   "cell_type": "markdown",
   "id": "d507c7db-bcc2-430c-9687-58976ade64c7",
   "metadata": {},
   "source": [
    "# Data Science Tools and Ecosystem"
   ]
  },
  {
   "cell_type": "code",
   "execution_count": 1,
   "id": "362f15bc-5bc1-4599-a6fa-33876fa182a6",
   "metadata": {},
   "outputs": [
    {
     "data": {
      "text/plain": [
       "'Data Science Tools and Ecosystem'"
      ]
     },
     "execution_count": 1,
     "metadata": {},
     "output_type": "execute_result"
    }
   ],
   "source": [
    "\"Data Science Tools and Ecosystem\""
   ]
  },
  {
   "cell_type": "code",
   "execution_count": null,
   "id": "d9c7ff31-6bd6-43a5-85e4-3c43f0597976",
   "metadata": {},
   "outputs": [],
   "source": []
  },
  {
   "cell_type": "code",
   "execution_count": 2,
   "id": "b5c04658-79af-478e-be64-cbf44db10782",
   "metadata": {},
   "outputs": [
    {
     "data": {
      "text/plain": [
       "'In this notebook, Data Science Tools and Ecosystem are summarized'"
      ]
     },
     "execution_count": 2,
     "metadata": {},
     "output_type": "execute_result"
    }
   ],
   "source": [
    "\"In this notebook, Data Science Tools and Ecosystem are summarized\""
   ]
  },
  {
   "cell_type": "code",
   "execution_count": null,
   "id": "e81aeb16-cfbf-4018-bbe5-0d3f471630d8",
   "metadata": {},
   "outputs": [],
   "source": []
  },
  {
   "cell_type": "markdown",
   "id": "ef6f7227-7e8c-4db2-832f-330e3e8995a9",
   "metadata": {},
   "source": [
    "  Objectives:\n",
    "\n",
    "- Add comments to code cells\n",
    "- Create markdown cells\n",
    "- Add ordered and unordered lists to markdown cells\n",
    "- Format content of markdown cells with heading styles\n",
    "\n"
   ]
  },
  {
   "cell_type": "code",
   "execution_count": null,
   "id": "8d54fb2d-24e8-4d58-bec2-ac699261a57c",
   "metadata": {},
   "outputs": [],
   "source": [
    "Author\n",
    "\n",
    "Tchaa Katansaou"
   ]
  },
  {
   "cell_type": "code",
   "execution_count": null,
   "id": "e4b3a20b-dc1a-47ba-963c-5a72f9c79738",
   "metadata": {},
   "outputs": [],
   "source": []
  },
  {
   "cell_type": "code",
   "execution_count": null,
   "id": "32fb1304-df10-4065-b20b-739d0b009246",
   "metadata": {},
   "outputs": [],
   "source": []
  },
  {
   "cell_type": "code",
   "execution_count": null,
   "id": "f02b99dc-cf87-4a1b-b6b2-00e1ee1723e9",
   "metadata": {},
   "outputs": [],
   "source": [
    "Some of the popular languages that Data Scientists use are:\n",
    "1. Python\n",
    "2. R\n",
    "3. SQL\n",
    "4. Scala\n",
    "5. Java\n",
    "6. C++\n",
    "7. Julia\n",
    "8. Javacript\n",
    "9. php\n",
    "10. Go\n",
    "11. Ruby\n",
    "12. Visual Basic"
   ]
  },
  {
   "cell_type": "code",
   "execution_count": null,
   "id": "47b10be1-4e51-430e-bee4-53d3a358e85f",
   "metadata": {},
   "outputs": [],
   "source": []
  },
  {
   "cell_type": "code",
   "execution_count": null,
   "id": "edbd6d25-b16c-475c-84f3-b43c49e1c7b8",
   "metadata": {},
   "outputs": [],
   "source": [
    "Some of the commonly used libraries used by Data Scientists include:\n",
    "1. Pandas\n",
    "2. Numpy\n",
    "3. Matplotlib\n",
    "4. Seaborn\n",
    "5. Scikit-learn\n",
    "6. Keras\n",
    "7. TensorFlow\n",
    "8. PyTorch\n",
    "9. Apache Spark\n",
    "10. Vegas\n",
    "11. Big DL\n",
    "12. Ggplot2"
   ]
  },
  {
   "cell_type": "markdown",
   "id": "ae45db4a-6577-4587-948f-d96c31227432",
   "metadata": {},
   "source": []
  },
  {
   "cell_type": "code",
   "execution_count": null,
   "id": "2c80d836-cd07-47fd-ae23-1f0bff90daf1",
   "metadata": {},
   "outputs": [],
   "source": [
    "Data Science Tools \n",
    "______________________\n",
    "\n",
    "Anaconda\n",
    "\n",
    "Jupyter Notebooks\n",
    "\n",
    "R Studio\n",
    "\n",
    "Spyder\n",
    "\n",
    "Zeppelin\n"
   ]
  },
  {
   "cell_type": "markdown",
   "id": "ed41912b-5bb4-4c9c-be0b-cfb7e58fb375",
   "metadata": {},
   "source": []
  },
  {
   "cell_type": "code",
   "execution_count": null,
   "id": "31111f99-e65b-421d-b928-463387b9a13e",
   "metadata": {},
   "outputs": [],
   "source": [
    " Below are a few examples of evaluating arithmetic expressions in Python\n",
    "\n",
    "\n"
   ]
  },
  {
   "cell_type": "code",
   "execution_count": null,
   "id": "bc782ebb-8bb6-4260-8442-61e0029e7443",
   "metadata": {},
   "outputs": [],
   "source": []
  },
  {
   "cell_type": "code",
   "execution_count": 8,
   "id": "91b680ae-cf89-485a-a6f8-070904857a52",
   "metadata": {},
   "outputs": [
    {
     "data": {
      "text/plain": [
       "17"
      ]
     },
     "execution_count": 8,
     "metadata": {},
     "output_type": "execute_result"
    }
   ],
   "source": [
    "(3*4)+5 #This a simple arithmetic expression to mutiply then add integers"
   ]
  },
  {
   "cell_type": "code",
   "execution_count": null,
   "id": "9c4c94ea-a20a-4655-93c0-d425db3b1901",
   "metadata": {},
   "outputs": [],
   "source": []
  },
  {
   "cell_type": "code",
   "execution_count": 9,
   "id": "27d0cc0e-492e-40a6-b4eb-66bffa842bc5",
   "metadata": {},
   "outputs": [
    {
     "data": {
      "text/plain": [
       "3.3333333333333335"
      ]
     },
     "execution_count": 9,
     "metadata": {},
     "output_type": "execute_result"
    }
   ],
   "source": [
    "# This will convert 200 minutes to hours by dividing by 60\n",
    "minutes = 200\n",
    "hours = minutes / 60\n",
    "hours\n",
    "\n"
   ]
  },
  {
   "cell_type": "code",
   "execution_count": null,
   "id": "f461040b-539c-480e-a753-7da09130f922",
   "metadata": {},
   "outputs": [],
   "source": []
  }
 ],
 "metadata": {
  "kernelspec": {
   "display_name": "Python 3 (ipykernel)",
   "language": "python",
   "name": "python3"
  },
  "language_info": {
   "codemirror_mode": {
    "name": "ipython",
    "version": 3
   },
   "file_extension": ".py",
   "mimetype": "text/x-python",
   "name": "python",
   "nbconvert_exporter": "python",
   "pygments_lexer": "ipython3",
   "version": "3.12.4"
  }
 },
 "nbformat": 4,
 "nbformat_minor": 5
}
